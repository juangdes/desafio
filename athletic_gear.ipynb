{
  "nbformat": 4,
  "nbformat_minor": 0,
  "metadata": {
    "colab": {
      "provenance": []
    },
    "kernelspec": {
      "name": "python3",
      "display_name": "Python 3"
    },
    "language_info": {
      "name": "python"
    }
  },
  "cells": [
    {
      "cell_type": "code",
      "execution_count": 1,
      "metadata": {
        "colab": {
          "base_uri": "https://localhost:8080/"
        },
        "id": "e2USTjxKHfHB",
        "outputId": "4fe30389-1369-4eb9-d291-d6d02f4e84b8"
      },
      "outputs": [
        {
          "output_type": "stream",
          "name": "stdout",
          "text": [
            "#forTe1\n",
            "Voce@Consegue!2023\n"
          ]
        }
      ],
      "source": [
        "import re\n",
        "\n",
        "senhas = [\n",
        "  \"#forTe1\",\n",
        "  \"senhafraca\",\n",
        "  \"Qu@s1\",\n",
        "  \"Voce@Consegue!2023\"\n",
        "]\n",
        "\n",
        "senha_forte_regex = re.compile(r'^(?=.*[a-z])(?=.*[A-Z])(?=.*[!@#$%^&*(),.?\":{}|<>]).{7,}$')\n",
        "\n",
        "for senha in senhas:\n",
        "    if senha_forte_regex.match(senha):\n",
        "        print(senha)"
      ]
    }
  ]
}